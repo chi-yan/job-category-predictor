{
  "nbformat": 4,
  "nbformat_minor": 0,
  "metadata": {
    "colab": {
      "name": "Job category predictor.ipynb",
      "provenance": [],
      "collapsed_sections": [],
      "authorship_tag": "ABX9TyOYpnyDPvdneRqKeRxOgFaE",
      "include_colab_link": true
    },
    "kernelspec": {
      "name": "python3",
      "display_name": "Python 3"
    },
    "language_info": {
      "name": "python"
    }
  },
  "cells": [
    {
      "cell_type": "markdown",
      "metadata": {
        "id": "view-in-github",
        "colab_type": "text"
      },
      "source": [
        "<a href=\"https://colab.research.google.com/github/chi-yan/job-category-predictor/blob/main/Job_category_predictor.ipynb\" target=\"_parent\"><img src=\"https://colab.research.google.com/assets/colab-badge.svg\" alt=\"Open In Colab\"/></a>"
      ]
    },
    {
      "cell_type": "code",
      "execution_count": 1,
      "metadata": {
        "colab": {
          "base_uri": "https://localhost:8080/"
        },
        "id": "9GHGwxugcyqh",
        "outputId": "d8f9d351-c0d4-4c11-cb38-d312e7cf965a"
      },
      "outputs": [
        {
          "output_type": "stream",
          "name": "stdout",
          "text": [
            "Collecting scikit-multilearn\n",
            "  Downloading scikit_multilearn-0.2.0-py3-none-any.whl (89 kB)\n",
            "\u001b[?25l\r\u001b[K     |███▊                            | 10 kB 21.5 MB/s eta 0:00:01\r\u001b[K     |███████▍                        | 20 kB 25.8 MB/s eta 0:00:01\r\u001b[K     |███████████                     | 30 kB 18.2 MB/s eta 0:00:01\r\u001b[K     |██████████████▊                 | 40 kB 15.6 MB/s eta 0:00:01\r\u001b[K     |██████████████████▍             | 51 kB 8.8 MB/s eta 0:00:01\r\u001b[K     |██████████████████████          | 61 kB 9.3 MB/s eta 0:00:01\r\u001b[K     |█████████████████████████▊      | 71 kB 8.7 MB/s eta 0:00:01\r\u001b[K     |█████████████████████████████▍  | 81 kB 9.6 MB/s eta 0:00:01\r\u001b[K     |████████████████████████████████| 89 kB 4.6 MB/s \n",
            "\u001b[?25hInstalling collected packages: scikit-multilearn\n",
            "Successfully installed scikit-multilearn-0.2.0\n"
          ]
        }
      ],
      "source": [
        "!pip install scikit-multilearn\n",
        "from skmultilearn.problem_transform import BinaryRelevance"
      ]
    },
    {
      "cell_type": "code",
      "source": [
        "text = \"\" #@param {type:\"string\"}\n",
        "!wget -O classifier.pkl.gz https://github.com/chi-yan/notebooks/blob/master/classifier.pkl.gz?raw=true\n",
        "!gunzip classifier.pkl.gz"
      ],
      "metadata": {
        "colab": {
          "base_uri": "https://localhost:8080/"
        },
        "cellView": "code",
        "id": "gczbZ9lgdeeE",
        "outputId": "9ab4a588-dce8-462a-b516-8b777d45d222"
      },
      "execution_count": 2,
      "outputs": [
        {
          "output_type": "stream",
          "name": "stdout",
          "text": [
            "--2022-02-10 12:02:12--  https://github.com/chi-yan/notebooks/blob/master/classifier.pkl.gz?raw=true\n",
            "Resolving github.com (github.com)... 140.82.114.3\n",
            "Connecting to github.com (github.com)|140.82.114.3|:443... connected.\n",
            "HTTP request sent, awaiting response... 302 Found\n",
            "Location: https://github.com/chi-yan/notebooks/raw/master/classifier.pkl.gz [following]\n",
            "--2022-02-10 12:02:12--  https://github.com/chi-yan/notebooks/raw/master/classifier.pkl.gz\n",
            "Reusing existing connection to github.com:443.\n",
            "HTTP request sent, awaiting response... 302 Found\n",
            "Location: https://raw.githubusercontent.com/chi-yan/notebooks/master/classifier.pkl.gz [following]\n",
            "--2022-02-10 12:02:12--  https://raw.githubusercontent.com/chi-yan/notebooks/master/classifier.pkl.gz\n",
            "Resolving raw.githubusercontent.com (raw.githubusercontent.com)... 185.199.108.133, 185.199.109.133, 185.199.110.133, ...\n",
            "Connecting to raw.githubusercontent.com (raw.githubusercontent.com)|185.199.108.133|:443... connected.\n",
            "HTTP request sent, awaiting response... 200 OK\n",
            "Length: 17019667 (16M) [application/octet-stream]\n",
            "Saving to: ‘classifier.pkl.gz’\n",
            "\n",
            "classifier.pkl.gz   100%[===================>]  16.23M  --.-KB/s    in 0.09s   \n",
            "\n",
            "2022-02-10 12:02:13 (177 MB/s) - ‘classifier.pkl.gz’ saved [17019667/17019667]\n",
            "\n"
          ]
        }
      ]
    },
    {
      "cell_type": "code",
      "source": [
        "import pickle\n",
        "with open('classifier.pkl', 'rb') as fp:\n",
        "  classifier = pickle.load(fp)"
      ],
      "metadata": {
        "id": "88dvJgnTdrLG"
      },
      "execution_count": 3,
      "outputs": []
    },
    {
      "cell_type": "code",
      "source": [
        "import tensorflow_hub as hub\n",
        "embed = hub.load(\"https://tfhub.dev/google/universal-sentence-encoder/4\")"
      ],
      "metadata": {
        "id": "0V1eSp9Kecuj"
      },
      "execution_count": 4,
      "outputs": []
    },
    {
      "cell_type": "code",
      "source": [
        "d = {0: 'Accounting', 1: 'Administration & Office Support', 2: 'Advertising, Arts & Media', 3: 'Banking & Financial Services', 4: 'CEO & General Management', 5: 'Call Centre & Customer Service', 6: 'Community Services & Development', 7: 'Construction', 8: 'Consulting & Strategy', 9: 'Design & Architecture', 10: 'Education & Training', 11: 'Engineering', 12: 'Farming, Animals & Conservation', 13: 'Government & Defence', 14: 'Healthcare & Medical', 15: 'Hospitality & Tourism', 16: 'Human Resources & Recruitment', 17: 'Information & Communication Technology', 18: 'Insurance & Superannuation', 19: 'Legal', 20: 'Manufacturing, Transport & Logistics', 21: 'Marketing & Communications', 22: 'Mining, Resources & Energy', 23: 'Real Estate & Property', 24: 'Retail & Consumer Products', 25: 'Sales', 26: 'Science & Technology', 27: 'Self Employment', 28: 'Sport & Recreation', 29: 'Trades & Services'}\n",
        "def makePrediction(text):\n",
        "  x_test = embed(text)\n",
        "  y_new_prediction = classifier.predict(x_test)\n",
        "  return(d[y_new_prediction.todense()[0].tolist()[0][0]])"
      ],
      "metadata": {
        "id": "7X1ZyiPWflVp"
      },
      "execution_count": 5,
      "outputs": []
    },
    {
      "cell_type": "code",
      "source": [
        "#https://www.seek.com.au/job/55806643?type=promoted#sol=c7a02cb846fa7bc3d2509d1ff76a774a808cef85\n",
        "makePrediction(['''POPE PACKAGING is a national and international packaging company, supplying the market with a diverse range of packaging products.\n",
        "Our expanding Agricultural division is looking to drive growth within the important Hay and Grain industry in NSW. \n",
        "Pope has a support and sales network in place that has an excellent knowledge of the market and the technical aspects behind our product range.\n",
        "With branches in each state’s capital city, we will provide you with a strong network of support.\n",
        "\n",
        "The Role:\n",
        "This role will be best suited to someone who is enthusiastic, willing to learn and with a sense of curiosity looking for a new opportunity to progress their career.\n",
        "While previous experience in sales would be of benefit, experience in the Agricultural Industry will be held in strong regard.\n",
        "You will be responsible for growing existing customers as well as building new customer relations to create sales growth.\n",
        "This role will require travel of country areas of New South Wales, with in person customer contact being a priority.\n",
        "Experience with grain or fodder would be helpful, but stronger technical training will be provided to the right person.\n",
        "In this role you will be responsible for covering New South Wales, some travel into other areas may at times be required.\n",
        "This position can be operated either from Sydney or a regional centre on negotiation, regional based candidates are welcome and encouraged to apply.'''])"
      ],
      "metadata": {
        "id": "0yyKWb3dfS5e",
        "colab": {
          "base_uri": "https://localhost:8080/",
          "height": 35
        },
        "outputId": "f11b9f03-1143-428f-8e4f-bc04ec923121"
      },
      "execution_count": 12,
      "outputs": [
        {
          "output_type": "execute_result",
          "data": {
            "application/vnd.google.colaboratory.intrinsic+json": {
              "type": "string"
            },
            "text/plain": [
              "'Sales'"
            ]
          },
          "metadata": {},
          "execution_count": 12
        }
      ]
    },
    {
      "cell_type": "code",
      "source": [
        "#https://www.seek.com.au/job/55869565?type=promoted#sol=7d5cfa550e944ef00598b8adccf4046a2f433579\n",
        "makePrediction(['''We’re an efficient, client-focused company and play an essential part in protecting Australia's workforce and help hundreds of thousands of people gain employment in Australia.\n",
        "\n",
        " We're looking for customer-focused Nurses with a commitment to creating memorable customer experiences working between 8am to 5pm, Monday to Friday. \n",
        "\n",
        " Our teams are welcoming, friendly and supportive and together we work hard in making sure our clients have a truly exceptional experience in our clinics.\n",
        "\n",
        "You'll work alongside Nurses, Exercise Scientists / Physiologists and Administration staff, as well as be supported by an experienced Occupational Physician to:\n",
        "Take patient histories and conduct medical screening including ECG, spirometry, audiometry, drug and alcohol testing and respiratory fit testing\n",
        "On-going health surveillance assessments\n",
        "Delivery of health and wellness initiatives\n",
        "Provide an exceptional level of client centred care and ensure our clients have a quality experience at our clinics.\n",
        " \n",
        "\n",
        "You must have :\n",
        "\n",
        "Degree level qualifications in nursing\n",
        "Current nursing registration with AHPRA\n",
        "A strong focus for team work, be approachable and excellent interpersonal skills.\n",
        "Have a strong customer service focus\n",
        "Have experience working with customers from a range of backgrounds'''])"
      ],
      "metadata": {
        "id": "DJc3hzhpfmg5",
        "colab": {
          "base_uri": "https://localhost:8080/",
          "height": 35
        },
        "outputId": "70936644-e41e-490d-a92c-9660e72e57e0"
      },
      "execution_count": 14,
      "outputs": [
        {
          "output_type": "execute_result",
          "data": {
            "application/vnd.google.colaboratory.intrinsic+json": {
              "type": "string"
            },
            "text/plain": [
              "'Healthcare & Medical'"
            ]
          },
          "metadata": {},
          "execution_count": 14
        }
      ]
    },
    {
      "cell_type": "code",
      "source": [
        "#https://www.seek.co.nz/job/55878129?type=promoted#sol=c556a792df1558173c78caf7b1ebc0d28f657a41\n",
        "\n",
        "makePrediction(['''Love Data Engineering? Dream about Azure data warehousing and DevOps? Want to be involved in the fast-paced world of Online video and news delivery?\n",
        "We are looking for a Senior Data Integration Engineer to play a pivotal role in TVNZ's data engineering capability. You'll work with our passionate people to build the next generation of data integrations and applications onto our purpose built IPaaS platform in Azure. You'll be working in a modern agile environment with lots of ability to innovate every day.\n",
        "About you:\n",
        "\n",
        "4+ years of experience in Azure services (Azure App Service including function app, Azure Container Instance, Logic Apps, Azure Data Factory, Databricks, Storage Account, Key Vault, API Management, Log Analytics, Event hub)\n",
        "Experience in Azure DevOps, deployment pipeline creation and enhancement with a focus on continuous integration and delivery (CI/CD)\n",
        "Strong experience in API driven development\n",
        "Experience in ARM templates\n",
        "Proficient in desired programming and scripting languages like C#, Python, and PowerShell to support integration as well as deployment of cloud infrastructure changes\n",
        "Solid understanding in writing and consuming web services, as well as the underlying API related technologies (REST, JSON, XML, SOAP, WSDL)\n",
        "Experience with containerization technologies i.e. docker. (Azure Container Instance)\n",
        "Understand Azure AD and its integration, authentication and authorization.\n",
        "Familiarity with Microsoft SQL Server, and able understand complex flows of data'''])"
      ],
      "metadata": {
        "colab": {
          "base_uri": "https://localhost:8080/",
          "height": 35
        },
        "id": "7du-sIaQg-SL",
        "outputId": "bfcebbc3-cb08-46e5-9ccb-e3380be55d50"
      },
      "execution_count": 8,
      "outputs": [
        {
          "output_type": "execute_result",
          "data": {
            "application/vnd.google.colaboratory.intrinsic+json": {
              "type": "string"
            },
            "text/plain": [
              "'Information & Communication Technology'"
            ]
          },
          "metadata": {},
          "execution_count": 8
        }
      ]
    },
    {
      "cell_type": "code",
      "source": [
        "#https://www.seek.com.au/job/55852900?type=standout#sol=ee282bf54890c9d79d2a61fa77e10717c994ce3d\n",
        "\n",
        "makePrediction(['''\n",
        "Job Description\n",
        "\n",
        "Working with highly motivated Data Scientists within SEEK’s AI team reporting to a Principal Data Scientist, you will be responsible for building and supporting end-to-end machine learning products delivering value to hirers and job seekers. You will be part of a cross-disciplinary team of data scientists, software engineers and product managers to deliver real time ML APIs. \n",
        "\n",
        "To be successful in this role, you will be comfortable with the end-to-end ML/AI solutions development process starting from gaining a deep understanding of the problem and ending with a production level implementation of the ML pipeline. You will also stay up-to-date with emerging techniques in natural language processing and machine learning, and be deeply involved in a culture of continual improvement.\n",
        "\n",
        "Key Responsibilities\n",
        "\n",
        "Formulating clear data addressable problem statements from current business problems\n",
        "Gathering, validating and understanding data relevant to the problem statement\n",
        "Designing and building data transformation pipelines and machine learning algorithms to solve the business problem\n",
        "Working with product management and other business stakeholders to review and iterate data products to fit emerging market trends\n",
        "Evangelising appropriate ML methods, explaining their associated benefits and limitations to non Data Scientists \n",
        "Qualifications\n",
        "\n",
        " \n",
        "\n",
        "5+ years of commercial experience building and improving internet-scale products informed by data\n",
        "Deep knowledge of machine learning algorithms, ensembling techniques and model performance tuning\n",
        "Advanced data extraction and processing skills using SQL, Spark\n",
        "Experience accessing and processing structured and unstructured data in AWS.\n",
        "Ability to write serviceable code in Python and comfortable working with and around a software development team\n",
        "Good communication and interpersonal skills and the ability to operate in an ambiguous environment\n",
        "Fluent with a command line in a *nix environment\n",
        "Postgraduate qualification in a quantitative discipline (e.g. Physics, Mathematics, Bioinformatics, Computer Science, Engineering)'''])"
      ],
      "metadata": {
        "colab": {
          "base_uri": "https://localhost:8080/",
          "height": 35
        },
        "id": "MV18Ffv7hRGl",
        "outputId": "686594cc-89f4-4b4a-cb49-05cd3f6c1a02"
      },
      "execution_count": 10,
      "outputs": [
        {
          "output_type": "execute_result",
          "data": {
            "application/vnd.google.colaboratory.intrinsic+json": {
              "type": "string"
            },
            "text/plain": [
              "'Information & Communication Technology'"
            ]
          },
          "metadata": {},
          "execution_count": 10
        }
      ]
    },
    {
      "cell_type": "code",
      "source": [
        "#https://www.seek.com.au/job/55885294?type=promoted#sol=1aa6a701809b9683710188e96afb528b1304e268\n",
        "\n",
        "makePrediction(['''\n",
        "Due to rapid growth and internal promotions, Bright Beginnings Learning Centre has limited openings for exceptional early childhood professionals to join our team. \n",
        "About the Roles\n",
        "Early Childhood Teacher - Due to a rapid increase in enrolments we are seeking a second early childhood teacher to join our team. We are seeking someone passionate about the heart and soul of our sector and wants to share their excitement, skill, knowledge and ideas with an open-minded and energetic team. As the ECT, you will develop, implement, evaluate and reflect on the educational curriculum for preschool aged children, with a strong focus on  project investigation, hands on, creative and intentional teaching. Within this role, you will work alongside other educators and be supported by our service educational leader and service manager to succeed. Weather you have years of experience, are newly completed your degree, or are diploma you are encouraged to apply. \n",
        "Certificate III Traineeship - Are you wanting to begin your career in the early year's sector and want to ensure you are supported and taught the right way from day one? If you answered yes, then you have indeed found the right place. As a trainee, you will work full-time and study via correspondence and be supported to grow and understand all aspects of the early year's sector by our lead educators and educational leaders. Our traineeships are a twelve-month contract with ongoing career opportunities for successful trainee's.\n",
        "Why BBLC is a great place to work \n",
        "Bright Beginnings Learning Centre has award-winning service across NSW and Victoria. We value our staff offering the above award conditions and pay and discounted childcare fees. We love nothing more than to encourage and support our educators to grow and learn continuously. We offer complete career progression plans, an abundance of professional development opportunities and internal promotions.  We also love to show our educators just how much you mean to us through team bonding nights, the annual BBLC educator award night, and more. \n",
        "How to Apply\n",
        "Click the apply now button, and ensure you attach a cover letter and your resume, and we will get in touch with you. '''])"
      ],
      "metadata": {
        "colab": {
          "base_uri": "https://localhost:8080/",
          "height": 35
        },
        "id": "7WRsWoJihe1A",
        "outputId": "01a3c940-d4d9-41a7-d0ac-d06a073dc42f"
      },
      "execution_count": 11,
      "outputs": [
        {
          "output_type": "execute_result",
          "data": {
            "application/vnd.google.colaboratory.intrinsic+json": {
              "type": "string"
            },
            "text/plain": [
              "'Education & Training'"
            ]
          },
          "metadata": {},
          "execution_count": 11
        }
      ]
    },
    {
      "cell_type": "code",
      "source": [
        ""
      ],
      "metadata": {
        "id": "Mn36hvJch0L3"
      },
      "execution_count": null,
      "outputs": []
    }
  ]
}